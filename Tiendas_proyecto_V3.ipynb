{
  "nbformat": 4,
  "nbformat_minor": 0,
  "metadata": {
    "colab": {
      "provenance": []
    },
    "kernelspec": {
      "name": "python3",
      "display_name": "Python 3"
    },
    "language_info": {
      "name": "python"
    }
  },
  "cells": [
    {
      "cell_type": "markdown",
      "source": [
        "### Importación de datos\n",
        "\n"
      ],
      "metadata": {
        "id": "RhEdWd9YUR6H"
      }
    },
    {
      "cell_type": "code",
      "execution_count": 39,
      "metadata": {
        "colab": {
          "base_uri": "https://localhost:8080/",
          "height": 206
        },
        "id": "T3EvaeQ_INIL",
        "outputId": "7851ed44-ca1c-4a8c-c699-a4c40a3d0a70"
      },
      "outputs": [
        {
          "output_type": "execute_result",
          "data": {
            "text/plain": [
              "            Producto Categoría del Producto    Precio  Costo de envío  \\\n",
              "0  Asistente virtual           Electrónicos  164300.0          6900.0   \n",
              "1    Mesa de comedor                Muebles  192300.0          8400.0   \n",
              "2      Juego de mesa               Juguetes  209600.0         15900.0   \n",
              "3         Microondas      Electrodomésticos  757500.0         41000.0   \n",
              "4   Silla de oficina                Muebles  335200.0         20200.0   \n",
              "\n",
              "  Fecha de Compra         Vendedor Lugar de Compra  Calificación  \\\n",
              "0      16/01/2021      Pedro Gomez          Bogotá             4   \n",
              "1      18/05/2022  Beatriz Morales        Medellín             1   \n",
              "2      15/03/2021   Juan Fernandez       Cartagena             1   \n",
              "3      03/05/2022   Juan Fernandez            Cali             4   \n",
              "4      07/11/2020    Maria Alfonso        Medellín             5   \n",
              "\n",
              "       Método de pago  Cantidad de cuotas       lat       lon  \n",
              "0  Tarjeta de crédito                   8   4.60971 -74.08175  \n",
              "1  Tarjeta de crédito                   4   6.25184 -75.56359  \n",
              "2  Tarjeta de crédito                   1  10.39972 -75.51444  \n",
              "3               Nequi                   1   3.43722 -76.52250  \n",
              "4               Nequi                   1   6.25184 -75.56359  "
            ],
            "text/html": [
              "\n",
              "  <div id=\"df-d1baf7a1-0dd5-4769-a1f3-7b89e2b485be\" class=\"colab-df-container\">\n",
              "    <div>\n",
              "<style scoped>\n",
              "    .dataframe tbody tr th:only-of-type {\n",
              "        vertical-align: middle;\n",
              "    }\n",
              "\n",
              "    .dataframe tbody tr th {\n",
              "        vertical-align: top;\n",
              "    }\n",
              "\n",
              "    .dataframe thead th {\n",
              "        text-align: right;\n",
              "    }\n",
              "</style>\n",
              "<table border=\"1\" class=\"dataframe\">\n",
              "  <thead>\n",
              "    <tr style=\"text-align: right;\">\n",
              "      <th></th>\n",
              "      <th>Producto</th>\n",
              "      <th>Categoría del Producto</th>\n",
              "      <th>Precio</th>\n",
              "      <th>Costo de envío</th>\n",
              "      <th>Fecha de Compra</th>\n",
              "      <th>Vendedor</th>\n",
              "      <th>Lugar de Compra</th>\n",
              "      <th>Calificación</th>\n",
              "      <th>Método de pago</th>\n",
              "      <th>Cantidad de cuotas</th>\n",
              "      <th>lat</th>\n",
              "      <th>lon</th>\n",
              "    </tr>\n",
              "  </thead>\n",
              "  <tbody>\n",
              "    <tr>\n",
              "      <th>0</th>\n",
              "      <td>Asistente virtual</td>\n",
              "      <td>Electrónicos</td>\n",
              "      <td>164300.0</td>\n",
              "      <td>6900.0</td>\n",
              "      <td>16/01/2021</td>\n",
              "      <td>Pedro Gomez</td>\n",
              "      <td>Bogotá</td>\n",
              "      <td>4</td>\n",
              "      <td>Tarjeta de crédito</td>\n",
              "      <td>8</td>\n",
              "      <td>4.60971</td>\n",
              "      <td>-74.08175</td>\n",
              "    </tr>\n",
              "    <tr>\n",
              "      <th>1</th>\n",
              "      <td>Mesa de comedor</td>\n",
              "      <td>Muebles</td>\n",
              "      <td>192300.0</td>\n",
              "      <td>8400.0</td>\n",
              "      <td>18/05/2022</td>\n",
              "      <td>Beatriz Morales</td>\n",
              "      <td>Medellín</td>\n",
              "      <td>1</td>\n",
              "      <td>Tarjeta de crédito</td>\n",
              "      <td>4</td>\n",
              "      <td>6.25184</td>\n",
              "      <td>-75.56359</td>\n",
              "    </tr>\n",
              "    <tr>\n",
              "      <th>2</th>\n",
              "      <td>Juego de mesa</td>\n",
              "      <td>Juguetes</td>\n",
              "      <td>209600.0</td>\n",
              "      <td>15900.0</td>\n",
              "      <td>15/03/2021</td>\n",
              "      <td>Juan Fernandez</td>\n",
              "      <td>Cartagena</td>\n",
              "      <td>1</td>\n",
              "      <td>Tarjeta de crédito</td>\n",
              "      <td>1</td>\n",
              "      <td>10.39972</td>\n",
              "      <td>-75.51444</td>\n",
              "    </tr>\n",
              "    <tr>\n",
              "      <th>3</th>\n",
              "      <td>Microondas</td>\n",
              "      <td>Electrodomésticos</td>\n",
              "      <td>757500.0</td>\n",
              "      <td>41000.0</td>\n",
              "      <td>03/05/2022</td>\n",
              "      <td>Juan Fernandez</td>\n",
              "      <td>Cali</td>\n",
              "      <td>4</td>\n",
              "      <td>Nequi</td>\n",
              "      <td>1</td>\n",
              "      <td>3.43722</td>\n",
              "      <td>-76.52250</td>\n",
              "    </tr>\n",
              "    <tr>\n",
              "      <th>4</th>\n",
              "      <td>Silla de oficina</td>\n",
              "      <td>Muebles</td>\n",
              "      <td>335200.0</td>\n",
              "      <td>20200.0</td>\n",
              "      <td>07/11/2020</td>\n",
              "      <td>Maria Alfonso</td>\n",
              "      <td>Medellín</td>\n",
              "      <td>5</td>\n",
              "      <td>Nequi</td>\n",
              "      <td>1</td>\n",
              "      <td>6.25184</td>\n",
              "      <td>-75.56359</td>\n",
              "    </tr>\n",
              "  </tbody>\n",
              "</table>\n",
              "</div>\n",
              "    <div class=\"colab-df-buttons\">\n",
              "\n",
              "  <div class=\"colab-df-container\">\n",
              "    <button class=\"colab-df-convert\" onclick=\"convertToInteractive('df-d1baf7a1-0dd5-4769-a1f3-7b89e2b485be')\"\n",
              "            title=\"Convert this dataframe to an interactive table.\"\n",
              "            style=\"display:none;\">\n",
              "\n",
              "  <svg xmlns=\"http://www.w3.org/2000/svg\" height=\"24px\" viewBox=\"0 -960 960 960\">\n",
              "    <path d=\"M120-120v-720h720v720H120Zm60-500h600v-160H180v160Zm220 220h160v-160H400v160Zm0 220h160v-160H400v160ZM180-400h160v-160H180v160Zm440 0h160v-160H620v160ZM180-180h160v-160H180v160Zm440 0h160v-160H620v160Z\"/>\n",
              "  </svg>\n",
              "    </button>\n",
              "\n",
              "  <style>\n",
              "    .colab-df-container {\n",
              "      display:flex;\n",
              "      gap: 12px;\n",
              "    }\n",
              "\n",
              "    .colab-df-convert {\n",
              "      background-color: #E8F0FE;\n",
              "      border: none;\n",
              "      border-radius: 50%;\n",
              "      cursor: pointer;\n",
              "      display: none;\n",
              "      fill: #1967D2;\n",
              "      height: 32px;\n",
              "      padding: 0 0 0 0;\n",
              "      width: 32px;\n",
              "    }\n",
              "\n",
              "    .colab-df-convert:hover {\n",
              "      background-color: #E2EBFA;\n",
              "      box-shadow: 0px 1px 2px rgba(60, 64, 67, 0.3), 0px 1px 3px 1px rgba(60, 64, 67, 0.15);\n",
              "      fill: #174EA6;\n",
              "    }\n",
              "\n",
              "    .colab-df-buttons div {\n",
              "      margin-bottom: 4px;\n",
              "    }\n",
              "\n",
              "    [theme=dark] .colab-df-convert {\n",
              "      background-color: #3B4455;\n",
              "      fill: #D2E3FC;\n",
              "    }\n",
              "\n",
              "    [theme=dark] .colab-df-convert:hover {\n",
              "      background-color: #434B5C;\n",
              "      box-shadow: 0px 1px 3px 1px rgba(0, 0, 0, 0.15);\n",
              "      filter: drop-shadow(0px 1px 2px rgba(0, 0, 0, 0.3));\n",
              "      fill: #FFFFFF;\n",
              "    }\n",
              "  </style>\n",
              "\n",
              "    <script>\n",
              "      const buttonEl =\n",
              "        document.querySelector('#df-d1baf7a1-0dd5-4769-a1f3-7b89e2b485be button.colab-df-convert');\n",
              "      buttonEl.style.display =\n",
              "        google.colab.kernel.accessAllowed ? 'block' : 'none';\n",
              "\n",
              "      async function convertToInteractive(key) {\n",
              "        const element = document.querySelector('#df-d1baf7a1-0dd5-4769-a1f3-7b89e2b485be');\n",
              "        const dataTable =\n",
              "          await google.colab.kernel.invokeFunction('convertToInteractive',\n",
              "                                                    [key], {});\n",
              "        if (!dataTable) return;\n",
              "\n",
              "        const docLinkHtml = 'Like what you see? Visit the ' +\n",
              "          '<a target=\"_blank\" href=https://colab.research.google.com/notebooks/data_table.ipynb>data table notebook</a>'\n",
              "          + ' to learn more about interactive tables.';\n",
              "        element.innerHTML = '';\n",
              "        dataTable['output_type'] = 'display_data';\n",
              "        await google.colab.output.renderOutput(dataTable, element);\n",
              "        const docLink = document.createElement('div');\n",
              "        docLink.innerHTML = docLinkHtml;\n",
              "        element.appendChild(docLink);\n",
              "      }\n",
              "    </script>\n",
              "  </div>\n",
              "\n",
              "\n",
              "    <div id=\"df-231910f6-c6d5-459a-a798-361cbb2fa7cb\">\n",
              "      <button class=\"colab-df-quickchart\" onclick=\"quickchart('df-231910f6-c6d5-459a-a798-361cbb2fa7cb')\"\n",
              "                title=\"Suggest charts\"\n",
              "                style=\"display:none;\">\n",
              "\n",
              "<svg xmlns=\"http://www.w3.org/2000/svg\" height=\"24px\"viewBox=\"0 0 24 24\"\n",
              "     width=\"24px\">\n",
              "    <g>\n",
              "        <path d=\"M19 3H5c-1.1 0-2 .9-2 2v14c0 1.1.9 2 2 2h14c1.1 0 2-.9 2-2V5c0-1.1-.9-2-2-2zM9 17H7v-7h2v7zm4 0h-2V7h2v10zm4 0h-2v-4h2v4z\"/>\n",
              "    </g>\n",
              "</svg>\n",
              "      </button>\n",
              "\n",
              "<style>\n",
              "  .colab-df-quickchart {\n",
              "      --bg-color: #E8F0FE;\n",
              "      --fill-color: #1967D2;\n",
              "      --hover-bg-color: #E2EBFA;\n",
              "      --hover-fill-color: #174EA6;\n",
              "      --disabled-fill-color: #AAA;\n",
              "      --disabled-bg-color: #DDD;\n",
              "  }\n",
              "\n",
              "  [theme=dark] .colab-df-quickchart {\n",
              "      --bg-color: #3B4455;\n",
              "      --fill-color: #D2E3FC;\n",
              "      --hover-bg-color: #434B5C;\n",
              "      --hover-fill-color: #FFFFFF;\n",
              "      --disabled-bg-color: #3B4455;\n",
              "      --disabled-fill-color: #666;\n",
              "  }\n",
              "\n",
              "  .colab-df-quickchart {\n",
              "    background-color: var(--bg-color);\n",
              "    border: none;\n",
              "    border-radius: 50%;\n",
              "    cursor: pointer;\n",
              "    display: none;\n",
              "    fill: var(--fill-color);\n",
              "    height: 32px;\n",
              "    padding: 0;\n",
              "    width: 32px;\n",
              "  }\n",
              "\n",
              "  .colab-df-quickchart:hover {\n",
              "    background-color: var(--hover-bg-color);\n",
              "    box-shadow: 0 1px 2px rgba(60, 64, 67, 0.3), 0 1px 3px 1px rgba(60, 64, 67, 0.15);\n",
              "    fill: var(--button-hover-fill-color);\n",
              "  }\n",
              "\n",
              "  .colab-df-quickchart-complete:disabled,\n",
              "  .colab-df-quickchart-complete:disabled:hover {\n",
              "    background-color: var(--disabled-bg-color);\n",
              "    fill: var(--disabled-fill-color);\n",
              "    box-shadow: none;\n",
              "  }\n",
              "\n",
              "  .colab-df-spinner {\n",
              "    border: 2px solid var(--fill-color);\n",
              "    border-color: transparent;\n",
              "    border-bottom-color: var(--fill-color);\n",
              "    animation:\n",
              "      spin 1s steps(1) infinite;\n",
              "  }\n",
              "\n",
              "  @keyframes spin {\n",
              "    0% {\n",
              "      border-color: transparent;\n",
              "      border-bottom-color: var(--fill-color);\n",
              "      border-left-color: var(--fill-color);\n",
              "    }\n",
              "    20% {\n",
              "      border-color: transparent;\n",
              "      border-left-color: var(--fill-color);\n",
              "      border-top-color: var(--fill-color);\n",
              "    }\n",
              "    30% {\n",
              "      border-color: transparent;\n",
              "      border-left-color: var(--fill-color);\n",
              "      border-top-color: var(--fill-color);\n",
              "      border-right-color: var(--fill-color);\n",
              "    }\n",
              "    40% {\n",
              "      border-color: transparent;\n",
              "      border-right-color: var(--fill-color);\n",
              "      border-top-color: var(--fill-color);\n",
              "    }\n",
              "    60% {\n",
              "      border-color: transparent;\n",
              "      border-right-color: var(--fill-color);\n",
              "    }\n",
              "    80% {\n",
              "      border-color: transparent;\n",
              "      border-right-color: var(--fill-color);\n",
              "      border-bottom-color: var(--fill-color);\n",
              "    }\n",
              "    90% {\n",
              "      border-color: transparent;\n",
              "      border-bottom-color: var(--fill-color);\n",
              "    }\n",
              "  }\n",
              "</style>\n",
              "\n",
              "      <script>\n",
              "        async function quickchart(key) {\n",
              "          const quickchartButtonEl =\n",
              "            document.querySelector('#' + key + ' button');\n",
              "          quickchartButtonEl.disabled = true;  // To prevent multiple clicks.\n",
              "          quickchartButtonEl.classList.add('colab-df-spinner');\n",
              "          try {\n",
              "            const charts = await google.colab.kernel.invokeFunction(\n",
              "                'suggestCharts', [key], {});\n",
              "          } catch (error) {\n",
              "            console.error('Error during call to suggestCharts:', error);\n",
              "          }\n",
              "          quickchartButtonEl.classList.remove('colab-df-spinner');\n",
              "          quickchartButtonEl.classList.add('colab-df-quickchart-complete');\n",
              "        }\n",
              "        (() => {\n",
              "          let quickchartButtonEl =\n",
              "            document.querySelector('#df-231910f6-c6d5-459a-a798-361cbb2fa7cb button');\n",
              "          quickchartButtonEl.style.display =\n",
              "            google.colab.kernel.accessAllowed ? 'block' : 'none';\n",
              "        })();\n",
              "      </script>\n",
              "    </div>\n",
              "\n",
              "    </div>\n",
              "  </div>\n"
            ],
            "application/vnd.google.colaboratory.intrinsic+json": {
              "type": "dataframe",
              "variable_name": "tienda",
              "summary": "{\n  \"name\": \"tienda\",\n  \"rows\": 2359,\n  \"fields\": [\n    {\n      \"column\": \"Producto\",\n      \"properties\": {\n        \"dtype\": \"category\",\n        \"num_unique_values\": 51,\n        \"samples\": [\n          \"Guitarra ac\\u00fastica\",\n          \"Bal\\u00f3n de baloncesto\",\n          \"Smartwatch\"\n        ],\n        \"semantic_type\": \"\",\n        \"description\": \"\"\n      }\n    },\n    {\n      \"column\": \"Categor\\u00eda del Producto\",\n      \"properties\": {\n        \"dtype\": \"category\",\n        \"num_unique_values\": 8,\n        \"samples\": [\n          \"Muebles\",\n          \"Deportes y diversi\\u00f3n\",\n          \"Electr\\u00f3nicos\"\n        ],\n        \"semantic_type\": \"\",\n        \"description\": \"\"\n      }\n    },\n    {\n      \"column\": \"Precio\",\n      \"properties\": {\n        \"dtype\": \"number\",\n        \"std\": 614686.7653873172,\n        \"min\": 7600.0,\n        \"max\": 2977000.0,\n        \"num_unique_values\": 1937,\n        \"samples\": [\n          2499400.0,\n          14800.0,\n          80500.0\n        ],\n        \"semantic_type\": \"\",\n        \"description\": \"\"\n      }\n    },\n    {\n      \"column\": \"Costo de env\\u00edo\",\n      \"properties\": {\n        \"dtype\": \"number\",\n        \"std\": 32860.0017825605,\n        \"min\": 0.0,\n        \"max\": 160800.0,\n        \"num_unique_values\": 753,\n        \"samples\": [\n          117800.0,\n          54700.0,\n          45600.0\n        ],\n        \"semantic_type\": \"\",\n        \"description\": \"\"\n      }\n    },\n    {\n      \"column\": \"Fecha de Compra\",\n      \"properties\": {\n        \"dtype\": \"object\",\n        \"num_unique_values\": 1018,\n        \"samples\": [\n          \"15/09/2022\",\n          \"03/06/2020\",\n          \"06/11/2021\"\n        ],\n        \"semantic_type\": \"\",\n        \"description\": \"\"\n      }\n    },\n    {\n      \"column\": \"Vendedor\",\n      \"properties\": {\n        \"dtype\": \"category\",\n        \"num_unique_values\": 14,\n        \"samples\": [\n          \"Juliana Costa\",\n          \"Mariana Herrera\",\n          \"Pedro Gomez\"\n        ],\n        \"semantic_type\": \"\",\n        \"description\": \"\"\n      }\n    },\n    {\n      \"column\": \"Lugar de Compra\",\n      \"properties\": {\n        \"dtype\": \"category\",\n        \"num_unique_values\": 19,\n        \"samples\": [\n          \"Bogot\\u00e1\",\n          \"Pereira\",\n          \"Neiva\"\n        ],\n        \"semantic_type\": \"\",\n        \"description\": \"\"\n      }\n    },\n    {\n      \"column\": \"Calificaci\\u00f3n\",\n      \"properties\": {\n        \"dtype\": \"number\",\n        \"std\": 1,\n        \"min\": 1,\n        \"max\": 5,\n        \"num_unique_values\": 5,\n        \"samples\": [\n          1,\n          2,\n          5\n        ],\n        \"semantic_type\": \"\",\n        \"description\": \"\"\n      }\n    },\n    {\n      \"column\": \"M\\u00e9todo de pago\",\n      \"properties\": {\n        \"dtype\": \"category\",\n        \"num_unique_values\": 4,\n        \"samples\": [\n          \"Nequi\",\n          \"Tarjeta de d\\u00e9bito\",\n          \"Tarjeta de cr\\u00e9dito\"\n        ],\n        \"semantic_type\": \"\",\n        \"description\": \"\"\n      }\n    },\n    {\n      \"column\": \"Cantidad de cuotas\",\n      \"properties\": {\n        \"dtype\": \"number\",\n        \"std\": 2,\n        \"min\": 1,\n        \"max\": 24,\n        \"num_unique_values\": 15,\n        \"samples\": [\n          7,\n          14,\n          8\n        ],\n        \"semantic_type\": \"\",\n        \"description\": \"\"\n      }\n    },\n    {\n      \"column\": \"lat\",\n      \"properties\": {\n        \"dtype\": \"number\",\n        \"std\": 2.2874452492678627,\n        \"min\": -4.21528,\n        \"max\": 11.54444,\n        \"num_unique_values\": 19,\n        \"samples\": [\n          4.60971,\n          4.81333,\n          2.9273\n        ],\n        \"semantic_type\": \"\",\n        \"description\": \"\"\n      }\n    },\n    {\n      \"column\": \"lon\",\n      \"properties\": {\n        \"dtype\": \"number\",\n        \"std\": 1.2178272727088486,\n        \"min\": -77.28111,\n        \"max\": -67.9239,\n        \"num_unique_values\": 19,\n        \"samples\": [\n          -74.08175,\n          -75.69611,\n          -75.28189\n        ],\n        \"semantic_type\": \"\",\n        \"description\": \"\"\n      }\n    }\n  ]\n}"
            }
          },
          "metadata": {},
          "execution_count": 39
        }
      ],
      "source": [
        "import pandas as pd\n",
        "\n",
        "url = \"https://raw.githubusercontent.com/alura-es-cursos/challenge1-data-science-latam/refs/heads/main/base-de-datos-challenge1-latam/tienda_1%20.csv\"\n",
        "url2 = \"https://raw.githubusercontent.com/alura-es-cursos/challenge1-data-science-latam/refs/heads/main/base-de-datos-challenge1-latam/tienda_2.csv\"\n",
        "url3 = \"https://raw.githubusercontent.com/alura-es-cursos/challenge1-data-science-latam/refs/heads/main/base-de-datos-challenge1-latam/tienda_3.csv\"\n",
        "url4 = \"https://raw.githubusercontent.com/alura-es-cursos/challenge1-data-science-latam/refs/heads/main/base-de-datos-challenge1-latam/tienda_4.csv\"\n",
        "\n",
        "tienda = pd.read_csv(url)\n",
        "tienda2 = pd.read_csv(url2)\n",
        "tienda3 = pd.read_csv(url3)\n",
        "tienda4 = pd.read_csv(url4)\n",
        "\n",
        "tienda.head()"
      ]
    },
    {
      "cell_type": "code",
      "source": [
        "tienda.info()"
      ],
      "metadata": {
        "id": "xykobSftV64I",
        "colab": {
          "base_uri": "https://localhost:8080/"
        },
        "outputId": "f10035a5-2dcb-4b56-c33d-4de8758efa28"
      },
      "execution_count": 31,
      "outputs": [
        {
          "output_type": "stream",
          "name": "stdout",
          "text": [
            "<class 'pandas.core.frame.DataFrame'>\n",
            "RangeIndex: 2359 entries, 0 to 2358\n",
            "Data columns (total 12 columns):\n",
            " #   Column                  Non-Null Count  Dtype  \n",
            "---  ------                  --------------  -----  \n",
            " 0   Producto                2359 non-null   object \n",
            " 1   Categoría del Producto  2359 non-null   object \n",
            " 2   Precio                  2359 non-null   float64\n",
            " 3   Costo de envío          2359 non-null   float64\n",
            " 4   Fecha de Compra         2359 non-null   object \n",
            " 5   Vendedor                2359 non-null   object \n",
            " 6   Lugar de Compra         2359 non-null   object \n",
            " 7   Calificación            2359 non-null   int64  \n",
            " 8   Método de pago          2359 non-null   object \n",
            " 9   Cantidad de cuotas      2359 non-null   int64  \n",
            " 10  lat                     2359 non-null   float64\n",
            " 11  lon                     2359 non-null   float64\n",
            "dtypes: float64(4), int64(2), object(6)\n",
            "memory usage: 221.3+ KB\n"
          ]
        }
      ]
    },
    {
      "cell_type": "code",
      "source": [
        "import matplotlib.pyplot as plt"
      ],
      "metadata": {
        "id": "Zg3kVA1kfvTU"
      },
      "execution_count": 32,
      "outputs": []
    },
    {
      "cell_type": "markdown",
      "source": [
        "#1. Análisis de facturación\n",
        "En este primer análisis, vamos a calcular el ingreso total de cada tienda. Para ello, sumaremos los valores de la columna Precio de cada conjunto de datos de la tienda para estimar los ingresos.\n",
        "Con esto, podremos reconocer la tienda con menor ingreso.\n",
        "\n",
        "\n"
      ],
      "metadata": {
        "id": "X62IW3KFUIYm"
      }
    },
    {
      "cell_type": "code",
      "source": [
        "tiendas = ['Tienda 1', 'Tienda 2', 'Tienda 3', 'Tienda 4']\n",
        "#Calculamos el total de ingreso de cada tienda según la suma de la columna precio:\n",
        "ingresototal_x_tienda = lambda tienda: sum(tienda['Precio'])\n",
        "ingresost_tiendas = [('Tienda1', ingresototal_x_tienda(tienda)),('Tienda2', ingresototal_x_tienda(tienda2)),('Tienda3', ingresototal_x_tienda(tienda3)),('Tienda4', ingresototal_x_tienda(tienda4))]\n",
        "#Calculamos la tienda que menos ventas tiene comparando los precios:\n",
        "tienda_menos_ingresos = min(ingresost_tiendas, key=lambda x: x[1])\n",
        "\n",
        "\n",
        "#Ahora realizaremos su gráfico de barras para que sea mejor comprendido el resultado:\n",
        "# Extraemos los nombres y los ingresos por separado:\n",
        "nombres = [tienda[0] for tienda in ingresost_tiendas]\n",
        "ingresos = [tienda[1] for tienda in ingresost_tiendas]\n",
        "\n",
        "# Colores personalizados para cada barra:\n",
        "colores = ['skyblue', 'red', 'yellow', 'green']\n",
        "\n",
        "# Crear gráfico de barras con borde negro:\n",
        "plt.bar(nombres, ingresos, color=colores, edgecolor='black')\n",
        "\n",
        "# Agregar título y etiquetas:\n",
        "plt.title('Ingresos por Tienda S/.')\n",
        "plt.xlabel('Tiendas')\n",
        "plt.ylabel('Ingresos (S/.)')\n",
        "\n",
        "# Mostrar los valores encima de cada barra:\n",
        "for i, ingreso in enumerate(ingresos):\n",
        "    plt.text(i, ingreso + 5, str(ingreso), ha='center')\n",
        "\n",
        "# Mostrar el gráfico:\n",
        "plt.tight_layout()\n",
        "plt.show()\n",
        "\n",
        "#Resultado:\n",
        "print(f'Ingresos totales por cada tienda: \\n{ingresost_tiendas}\\n')\n",
        "print(f'La tienda con menos ingresos es la {tienda_menos_ingresos}')"
      ],
      "metadata": {
        "colab": {
          "base_uri": "https://localhost:8080/",
          "height": 556
        },
        "id": "vArLQVv7TeeQ",
        "outputId": "417e9b78-5586-4ee0-a12b-22f396d2eb14"
      },
      "execution_count": 33,
      "outputs": [
        {
          "output_type": "display_data",
          "data": {
            "text/plain": [
              "<Figure size 640x480 with 1 Axes>"
            ],
            "image/png": "[encoded data removed]"
          },
          "metadata": {}
        },
        {
          "output_type": "stream",
          "name": "stdout",
          "text": [
            "Ingresos totales por cada tienda: \n",
            "[('Tienda1', 1150880400.0), ('Tienda2', 1116343500.0), ('Tienda3', 1098019600.0), ('Tienda4', 1038375700.0)]\n",
            "\n",
            "La tienda con menos ingresos es la ('Tienda4', 1038375700.0)\n"
          ]
        }
      ]
    },
    {
      "cell_type": "markdown",
      "source": [
        "# 2. Ventas por categoría\n",
        "En este segundo análisis, vamos a calcular la cantidad de productos vendidos por categoría en cada tienda. La idea es agrupar los datos por categoría y contar el número de ventas de cada tipo, mostrando las 3 categorías más populares de cada tienda."
      ],
      "metadata": {
        "id": "2V_vcAPzWZmR"
      }
    },
    {
      "cell_type": "code",
      "source": [
        "# Definimos una función llamada 'ventas_categorias' que recibe como parámetro el DataFrame 'tienda':\n",
        "def ventas_categorias(tienda):\n",
        "    # Obtenemos una lista con las categorías únicas que existen en la columna 'Categoría del Producto':\n",
        "    categorias = list(set(tienda['Categoría del Producto']))\n",
        "    # Creamos una lista vacía donde almacenaremos tuplas (categoría, cantidad):\n",
        "    conteo = []\n",
        "    # Recorremos cada categoría para contar cuántas veces aparece:\n",
        "    for categoria in categorias:\n",
        "        # Contamos cuántos productos pertenecen a esta categoría (usamos == y luego sum() para contar los True):\n",
        "        # Convertimos el resultado a tipo int normal (por defecto es np.int64):\n",
        "        cantidad = int((tienda['Categoría del Producto'] == categoria).sum())\n",
        "        # Agregamos una tupla con el nombre de la categoría y la cantidad contada a la lista 'conteo':\n",
        "        conteo.append((categoria, cantidad))\n",
        "\n",
        "    # Ordenamos la lista de tuplas de mayor a menor según la cantidad (el segundo elemento de cada tupla):\n",
        "    return sorted(conteo, key=lambda tupla: tupla[1], reverse=True)\n",
        "\n",
        "# Imprimimos el resultado al ejecutar la función con el DataFrame 'tienda':\n",
        "print(ventas_categorias(tienda))"
      ],
      "metadata": {
        "colab": {
          "base_uri": "https://localhost:8080/"
        },
        "id": "gxIzI0K7GKoF",
        "outputId": "78f14be3-03f7-4cf3-c67c-0e5a269ad0ef"
      },
      "execution_count": 34,
      "outputs": [
        {
          "output_type": "stream",
          "name": "stdout",
          "text": [
            "[('Muebles', 465), ('Electrónicos', 448), ('Juguetes', 324), ('Electrodomésticos', 312), ('Deportes y diversión', 284), ('Instrumentos musicales', 182), ('Libros', 173), ('Artículos para el hogar', 171)]\n"
          ]
        }
      ]
    },
    {
      "cell_type": "code",
      "source": [
        "# Ahora, creamos un diccionario con las categorías más vendidas a las menos vendidas por cada tienda:\n",
        "dicc_ventas_total_x_categoria_x_tienda = {\n",
        "    'Tienda1': ventas_categorias(tienda),\n",
        "    'Tienda2': ventas_categorias(tienda2),\n",
        "    'Tienda3': ventas_categorias(tienda3),\n",
        "    'Tienda4': ventas_categorias(tienda4)\n",
        "    }\n",
        "dicc_ventas_total_x_categoria_x_tienda\n",
        "# Obteniendo una mejor vista de los datos de cada tienda con sus respectivas categorías y la cantidad de productos de esta:"
      ],
      "metadata": {
        "colab": {
          "base_uri": "https://localhost:8080/"
        },
        "id": "96QfkwafHicH",
        "outputId": "783f16be-dcf3-4b8f-9380-c4544e23a9f4"
      },
      "execution_count": 35,
      "outputs": [
        {
          "output_type": "execute_result",
          "data": {
            "text/plain": [
              "{'Tienda1': [('Muebles', 465),\n",
              "  ('Electrónicos', 448),\n",
              "  ('Juguetes', 324),\n",
              "  ('Electrodomésticos', 312),\n",
              "  ('Deportes y diversión', 284),\n",
              "  ('Instrumentos musicales', 182),\n",
              "  ('Libros', 173),\n",
              "  ('Artículos para el hogar', 171)],\n",
              " 'Tienda2': [('Muebles', 442),\n",
              "  ('Electrónicos', 422),\n",
              "  ('Juguetes', 313),\n",
              "  ('Electrodomésticos', 305),\n",
              "  ('Deportes y diversión', 275),\n",
              "  ('Instrumentos musicales', 224),\n",
              "  ('Libros', 197),\n",
              "  ('Artículos para el hogar', 181)],\n",
              " 'Tienda3': [('Muebles', 499),\n",
              "  ('Electrónicos', 451),\n",
              "  ('Juguetes', 315),\n",
              "  ('Electrodomésticos', 278),\n",
              "  ('Deportes y diversión', 277),\n",
              "  ('Libros', 185),\n",
              "  ('Artículos para el hogar', 177),\n",
              "  ('Instrumentos musicales', 177)],\n",
              " 'Tienda4': [('Muebles', 480),\n",
              "  ('Electrónicos', 451),\n",
              "  ('Juguetes', 338),\n",
              "  ('Deportes y diversión', 277),\n",
              "  ('Electrodomésticos', 254),\n",
              "  ('Artículos para el hogar', 201),\n",
              "  ('Libros', 187),\n",
              "  ('Instrumentos musicales', 170)]}"
            ]
          },
          "metadata": {},
          "execution_count": 35
        }
      ]
    },
    {
      "cell_type": "code",
      "source": [
        "# Ahora, vamos a calcular las 3 categorías más vendidas por cada tienda:\n",
        "categorias_mas_vendidas = [ventas_categorias(t)[:3] for t in [tienda, tienda2, tienda3, tienda4]]\n",
        "# Usando otro diccionario, vamos a visualizar los datos obtenidos con su respectiva tienda:\n",
        "dicc_categorias_mas_vendidas = {tienda:categorias for tienda, categorias in zip(tiendas,categorias_mas_vendidas)}\n",
        "dicc_categorias_mas_vendidas"
      ],
      "metadata": {
        "colab": {
          "base_uri": "https://localhost:8080/"
        },
        "id": "eCHjtIJ2IK6-",
        "outputId": "a3236dbe-0f1c-4bcb-df33-afead8730d08"
      },
      "execution_count": 36,
      "outputs": [
        {
          "output_type": "execute_result",
          "data": {
            "text/plain": [
              "{'Tienda 1': [('Muebles', 465), ('Electrónicos', 448), ('Juguetes', 324)],\n",
              " 'Tienda 2': [('Muebles', 442), ('Electrónicos', 422), ('Juguetes', 313)],\n",
              " 'Tienda 3': [('Muebles', 499), ('Electrónicos', 451), ('Juguetes', 315)],\n",
              " 'Tienda 4': [('Muebles', 480), ('Electrónicos', 451), ('Juguetes', 338)]}"
            ]
          },
          "metadata": {},
          "execution_count": 36
        }
      ]
    },
    {
      "cell_type": "code",
      "source": [
        "# Extraemos solo los nombres de las categorías desde la tienda 1 para usar como etiquetas del eje X:\n",
        "categorias = [cat for cat, _ in dicc_categorias_mas_vendidas['Tienda 1']]\n",
        "# Obtenemos la lista de nombres de todas las tiendas (las claves del diccionario):\n",
        "tiendas = list(dicc_categorias_mas_vendidas.keys())\n",
        "# Creamos una lista para almacenar los valores (cantidades de productos) por cada tienda:\n",
        "valores_por_tienda = []\n",
        "# Recorremos cada tienda para extraer los valores (cantidad vendida) de sus categorías más vendidas:\n",
        "for tienda in tiendas:\n",
        "    valores = [valor for _, valor in dicc_categorias_mas_vendidas[tienda]]\n",
        "    valores_por_tienda.append(valores)\n",
        "\n",
        "# Creamos un arreglo de posiciones para ubicar las barras de las categorías en el eje X:\n",
        "import numpy as np\n",
        "x = np.arange(len(categorias))  # Ej: [0, 1, 2] si hay 3 categorías\n",
        "# Establecemos el ancho de cada barra:\n",
        "width = 0.2\n",
        "# Creamos la figura y los ejes del gráfico:\n",
        "fig, ax = plt.subplots(figsize=(10, 6))  # Tamaño del gráfico\n",
        "# Recorremos los valores de cada tienda para graficar sus barras:\n",
        "for i, valores in enumerate(valores_por_tienda):\n",
        "    # Calculamos la posición horizontal para las barras de esta tienda:\n",
        "    posiciones_barra = x + i * width\n",
        "\n",
        "    # Dibujamos las barras en el gráfico:\n",
        "    barras = ax.bar(posiciones_barra, valores, width, label=tiendas[i])\n",
        "\n",
        "    # Mostramos los valores (cantidades) encima de cada barra:\n",
        "    for x_pos, y_val in zip(posiciones_barra, valores):\n",
        "        ax.text(x_pos, y_val + 5, str(y_val), ha='center', va='bottom', fontsize=9)\n",
        "\n",
        "# Etiqueta del eje Y:\n",
        "ax.set_ylabel('Cantidad de productos vendidos')\n",
        "# Título del gráfico:\n",
        "ax.set_title('Top 3 categorías más vendidas por tienda')\n",
        "# Colocamos las etiquetas en el eje X centradas entre las agrupaciones de barras:\n",
        "ax.set_xticks(x + width * 1.5)  # 1.5 es la mitad de 3 barras (ajuste visual)\n",
        "# Mostramos los nombres de las categorías como etiquetas del eje X:\n",
        "ax.set_xticklabels(categorias)\n",
        "# Mostramos la leyenda (con los nombres de las tiendas):\n",
        "ax.legend()\n",
        "# Ajustamos el diseño para que no se superpongan los elementos:\n",
        "plt.tight_layout()\n",
        "# Mostramos el gráfico en pantalla:\n",
        "plt.show()"
      ],
      "metadata": {
        "colab": {
          "base_uri": "https://localhost:8080/",
          "height": 606
        },
        "id": "2pHoS7WKKv4I",
        "outputId": "f4e84672-b916-40fa-c442-cf1f87987a29"
      },
      "execution_count": 37,
      "outputs": [
        {
          "output_type": "display_data",
          "data": {
            "text/plain": [
              "<Figure size 1000x600 with 1 Axes>"
            ],
            "image/png": "[encoded data removed]"
          },
          "metadata": {}
        }
      ]
    },
    {
      "cell_type": "markdown",
      "source": [
        "# 3. Calificación promedio de la tienda\n",
        "En este tercer análisis, vamos a calcular las calificaciones promedio de los clientes para cada tienda. El objetivo es conocer la satisfacción del cliente con los productos vendidos y representarlo gráficamente, determinando la tienda con peor calificación."
      ],
      "metadata": {
        "id": "Rq6tU_xSY3jk"
      }
    },
    {
      "cell_type": "code",
      "source": [
        "# Primero debemos reconocer la escala de la calificacion (sin duplicados):\n",
        "calificacion = list(set(tienda['Calificación']))\n",
        "calificacion"
      ],
      "metadata": {
        "id": "bh3jjjJwY5MU",
        "colab": {
          "base_uri": "https://localhost:8080/"
        },
        "outputId": "b6954345-2232-4f44-81d2-db576e4d4db9"
      },
      "execution_count": 40,
      "outputs": [
        {
          "output_type": "execute_result",
          "data": {
            "text/plain": [
              "[1, 2, 3, 4, 5]"
            ]
          },
          "metadata": {},
          "execution_count": 40
        }
      ]
    },
    {
      "cell_type": "code",
      "source": [
        "# Creamos una funcion para determinar el promedio de calificación de cada tienda y luego lo guardamos en una lista:\n",
        "calificacion_promedio = lambda tienda: round(sum(tienda['Calificación']) / len(tienda), 2)\n",
        "calificacion_x_tienda = [calificacion_promedio(tienda),calificacion_promedio(tienda2),calificacion_promedio(tienda3),calificacion_promedio(tienda4)]\n",
        "\n",
        "# Ahora mostramos el nombre de tienda + la calificación promedio de esta:\n",
        "print(\"Calificación promedio por cada tienda:\")\n",
        "for nombre, calificacion in zip(tiendas, calificacion_x_tienda):\n",
        "    print(f\"{nombre}: {calificacion}\")\n",
        "\n",
        "# Luego, buscamos la tienda con la peor calificación:\n",
        "tienda_peor_calificacion = min(calificacion_x_tienda)\n",
        "peor_tienda = tiendas[calificacion_x_tienda.index(tienda_peor_calificacion)]\n",
        "print(f\"\\nLa tienda con la peor calificación es la {peor_tienda} con una calificación de: {tienda_peor_calificacion}\")"
      ],
      "metadata": {
        "colab": {
          "base_uri": "https://localhost:8080/"
        },
        "id": "AD9sfKUHrYb2",
        "outputId": "c9d6d1ec-6c84-4d41-a009-bb354a5d8951"
      },
      "execution_count": 41,
      "outputs": [
        {
          "output_type": "stream",
          "name": "stdout",
          "text": [
            "Calificación promedio por cada tienda:\n",
            "Tienda 1: 3.98\n",
            "Tienda 2: 4.04\n",
            "Tienda 3: 4.05\n",
            "Tienda 4: 4.0\n",
            "\n",
            "La tienda con la peor calificación es la Tienda 1 con una calificación de: 3.98\n"
          ]
        }
      ]
    },
    {
      "cell_type": "code",
      "source": [
        "# Datos\n",
        "nombres_tiendas = tiendas  # ['Tienda 1', 'Tienda 2', 'Tienda 3', 'Tienda 4']\n",
        "calificaciones = calificacion_x_tienda  # [4.1, 3.8, 4.5, 4.0]\n",
        "\n",
        "# Lista de colores: celeste, rojo, amarillo, verde\n",
        "colores = ['skyblue', 'red', 'gold', 'green']\n",
        "\n",
        "# Crear gráfico de barras horizontal\n",
        "plt.figure(figsize=(8, 5))\n",
        "plt.barh(nombres_tiendas, calificaciones, color=colores, edgecolor='black')\n",
        "\n",
        "# Títulos y etiquetas\n",
        "plt.xlabel('Calificación Promedio')\n",
        "plt.title('Calificación promedio por tienda')\n",
        "plt.xlim(0, 5)  # Si las calificaciones van de 0 a 5\n",
        "\n",
        "# Mostrar calificación a la derecha de cada barra\n",
        "for i, valor in enumerate(calificaciones):\n",
        "    plt.text(valor + 0.05, i, str(valor), va='center')\n",
        "\n",
        "plt.tight_layout()\n",
        "plt.show()\n"
      ],
      "metadata": {
        "colab": {
          "base_uri": "https://localhost:8080/",
          "height": 507
        },
        "id": "DXdU3YTjwiJl",
        "outputId": "bd9d3b92-8b01-4fe1-e0d7-21cbe3984d37"
      },
      "execution_count": 42,
      "outputs": [
        {
          "output_type": "display_data",
          "data": {
            "text/plain": [
              "<Figure size 800x500 with 1 Axes>"
            ],
            "image/png": "[encoded data removed]"
          },
          "metadata": {}
        }
      ]
    },
    {
      "cell_type": "markdown",
      "source": [
        "# 4. Productos más y menos vendidos"
      ],
      "metadata": {
        "id": "DmNp1KPBZCm-"
      }
    },
    {
      "cell_type": "code",
      "source": [],
      "metadata": {
        "id": "qoyjqijQZHfF"
      },
      "execution_count": null,
      "outputs": []
    },
    {
      "cell_type": "markdown",
      "source": [
        "# 5. Envío promedio por tienda"
      ],
      "metadata": {
        "id": "Fl0cGi3bZKqU"
      }
    },
    {
      "cell_type": "code",
      "source": [],
      "metadata": {
        "id": "S2JeaCykZNy9"
      },
      "execution_count": null,
      "outputs": []
    }
  ]
}